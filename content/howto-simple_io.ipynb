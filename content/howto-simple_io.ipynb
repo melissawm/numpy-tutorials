{
 "cells": [
  {
   "cell_type": "markdown",
   "metadata": {},
   "source": [
    "<a id=\"home\"></a>\n",
    "# How to save and load NumPy data (the simple way)\n",
    "\n",
    "In this document, we describe\n",
    "\n",
    "- How to load and save data from a variety of built-in and external formats into NumPy arrays;\n",
    "- How to save NumPy arrays to disk;\n",
    "- The simplest solutions and best formats for your type of data.\n",
    "\n",
    "### Contents:\n",
    "- [An example of reading a netCDF file into NumPy](#example)\n",
    "- NumPy built-in functionality: \n",
    "    - [Saving a single array to disk](#builtin): the binary `npy` format (`np.load`, `np.save`)\n",
    "    - [Saving several arrays in the same file](#npz): `np.savez` and `np.savez_compressed`.\n",
    "    - [Plain text data](#text): `np.savetxt`, `np.loadtxt` and `np.genfromtxt`\n",
    "    - [Saving structured arrays](#structured)\n",
    "    - [Zarr](#zarr): `save` and `load` functions for quick manipulation of NumPy arrays.\n",
    "    - [Final thoughts](#final): common problems and how to solve them; other options and formats.\n",
    "    \n",
    "For other information not covered in this page, go to the [Further Reading](#further_reading) section."
   ]
  },
  {
   "cell_type": "markdown",
   "metadata": {},
   "source": [
    "<a id=\"example\"></a>\n",
    "## Example: Reading a netCDF file data and saving it as a NumPy array"
   ]
  },
  {
   "cell_type": "markdown",
   "metadata": {},
   "source": [
    "For this example, we'll take a file from [gridMET](http://www.climatologylab.org/gridmet.html) containing meteorological data from the continental United States. \n",
    "\n",
    "gridMET is a\n",
    "\n",
    "> dataset of daily high-spatial resolution (~4-km, 1/24th degree) surface meteorological data covering the contiguous US from 1979-yesterday."
   ]
  },
  {
   "cell_type": "markdown",
   "metadata": {},
   "source": [
    "This dataset is available as a set of [netCDF](https://www.unidata.ucar.edu/software/netcdf/) files corresponding to meteorological data from a selected region of the globe for a certain time period. For this document, we'll choose a dataset of maximum near-surface temperature data for a rectangle containing the United States for the year 2019."
   ]
  },
  {
   "cell_type": "markdown",
   "metadata": {},
   "source": [
    "### Reading the data"
   ]
  },
  {
   "cell_type": "markdown",
   "metadata": {},
   "source": [
    "We'll use the file `tmmx_2019.nc` containing the temperature data for the year 2019. You can download the file manually by going to "
   ]
  },
  {
   "cell_type": "markdown",
   "metadata": {},
   "source": [
    "http://www.northwestknowledge.net/metdata/data/tmmx_2019.nc"
   ]
  },
  {
   "cell_type": "markdown",
   "metadata": {},
   "source": [
    "or use the complete url for the file in the `Dataset` function of the `netCDF4` module."
   ]
  },
  {
   "cell_type": "code",
   "execution_count": null,
   "metadata": {},
   "outputs": [],
   "source": [
    "import numpy as np\n",
    "from netCDF4 import Dataset"
   ]
  },
  {
   "cell_type": "markdown",
   "metadata": {},
   "source": [
    "If you have downloaded the file manually, remove the `#` from the line below and run it:"
   ]
  },
  {
   "cell_type": "code",
   "execution_count": null,
   "metadata": {},
   "outputs": [],
   "source": [
    "#f = Dataset('tmmx_2019.nc')"
   ]
  },
  {
   "cell_type": "markdown",
   "metadata": {},
   "source": [
    "If you want to download it automatically, run the cell below (**You need to have an active internet connection for this to work**):"
   ]
  },
  {
   "cell_type": "code",
   "execution_count": null,
   "metadata": {},
   "outputs": [],
   "source": [
    "f = Dataset('http://thredds.northwestknowledge.net:8080/thredds/dodsC/MET/tmmx/tmmx_2019.nc'+'#fillmismatch', 'r', format=\"NETCDF4\")"
   ]
  },
  {
   "cell_type": "markdown",
   "metadata": {},
   "source": [
    "Now, the air temperature information (in Kelvin) can be accessed by"
   ]
  },
  {
   "cell_type": "code",
   "execution_count": null,
   "metadata": {},
   "outputs": [],
   "source": [
    "air_temperature = f.variables['air_temperature']"
   ]
  },
  {
   "cell_type": "markdown",
   "metadata": {},
   "source": [
    "The data is stored as a three-dimensional array; in the first axis we have the day when the temperature was measured, and the second and third axes are for latitude and longitude, respectively."
   ]
  },
  {
   "cell_type": "code",
   "execution_count": null,
   "metadata": {},
   "outputs": [],
   "source": [
    "air_temperature.shape"
   ]
  },
  {
   "cell_type": "markdown",
   "metadata": {},
   "source": [
    "Note that `air_temperature` is a [netCDF variable](https://www.unidata.ucar.edu/software/netcdf/docs/group__variables.html). We can read it as a NumPy array using the following syntax:\n",
    "```python\n",
    "temperatures = air_temperature[:]\n",
    "```\n",
    "\n",
    "To simplify our example, we'll read only the temperature data between July 1st and July 31st, 2019. These are indexed by 181 and 211, respectively, in the first axis of our `air_temperature` array (remember that when slicing the stop value - 212 in the expression below - is not included in the final result.)"
   ]
  },
  {
   "cell_type": "code",
   "execution_count": null,
   "metadata": {},
   "outputs": [],
   "source": [
    "temperatures = air_temperature[181:212, ...]"
   ]
  },
  {
   "cell_type": "markdown",
   "metadata": {},
   "source": [
    "**Note:** You may see a `DeprecationWarning: tostring() is deprecated. Use tobytes() instead.` message after executing the command above. You can safely ignore this warning, as it is a [netCDF4 issue](https://github.com/Unidata/netcdf4-python/commit/b2f8d7e73c0df7e334f4280c7e206ec3684f499d)."
   ]
  },
  {
   "cell_type": "markdown",
   "metadata": {},
   "source": [
    "Now, since there are missing data in this file, `temp` is a [masked array](https://numpy.org/doc/stable/reference/maskedarray.generic.html). If we had used\n",
    "```python\n",
    "temperatures = np.asarray(air_temperature)\n",
    "```"
   ]
  },
  {
   "cell_type": "markdown",
   "metadata": {},
   "source": [
    "we would see the missing values filled with the `missing_value` flag defined by the netCDF data:"
   ]
  },
  {
   "cell_type": "code",
   "execution_count": null,
   "metadata": {},
   "outputs": [],
   "source": [
    "f.variables['air_temperature'].missing_value"
   ]
  },
  {
   "cell_type": "markdown",
   "metadata": {},
   "source": [
    "<a id=\"builtin\"></a>\n",
    "## Saving a single array to disk"
   ]
  },
  {
   "cell_type": "markdown",
   "metadata": {},
   "source": [
    "**The simplest recommended way to save an array to disk is by using the `numpy.save` function.** This allows you to save any ndarray to a binary file in NumPy [`.npy` format](https://numpy.org/devdocs/reference/generated/numpy.lib.format.html). The `.npy` format is the standard binary file format in NumPy for persisting a single arbitrary NumPy array on disk. The format stores all of the shape and dtype information necessary to reconstruct the array correctly even on another machine with a different architecture. \n",
    "\n",
    "It's worth noting that since `NPY` is a binary file format, the contents of the file are not human-readable when opened with a text editor, for example. This is compensated by its read and write speed. If you need the data to be human-readable, see [np.savetxt](#text) below. \n",
    "\n",
    "Finally, if you need to save this data to be opened with other programming languages or applications, you might want to choose another format."
   ]
  },
  {
   "cell_type": "markdown",
   "metadata": {},
   "source": [
    "**Note:** `numpy.save` doesn't support saving arbitrary subclasses of NumPy arrays; in particular, [masked arrays](https://numpy.org/devdocs/reference/maskedarray.generic.html) are not supported."
   ]
  },
  {
   "cell_type": "markdown",
   "metadata": {},
   "source": [
    "In our example, we'll save only `temperatures.data` to avoid problems with masked arrays:"
   ]
  },
  {
   "cell_type": "code",
   "execution_count": null,
   "metadata": {},
   "outputs": [],
   "source": [
    "np.save(\"temperature_data.npy\", temperatures.data)"
   ]
  },
  {
   "cell_type": "markdown",
   "metadata": {},
   "source": [
    "Now, the data can be retrieved from this binary file by using the `np.load` function:"
   ]
  },
  {
   "cell_type": "code",
   "execution_count": null,
   "metadata": {},
   "outputs": [],
   "source": [
    "temps_read = np.load(\"temperature_data.npy\")"
   ]
  },
  {
   "cell_type": "markdown",
   "metadata": {},
   "source": [
    "<a id=\"npz\"></a>\n",
    "## Storing several arrays in the same file: `numpy.savez`\n",
    "\n",
    "To store several NumPy arrays in the same file, the recommended way is to use the `np.savez` function. As a convention, the data will be stored in a file with extension `.npz`. This file is a zip file containing multiple `.npy` files, one for each array. To recover the arrays stored in this file, we can once more use the `load` function."
   ]
  },
  {
   "cell_type": "markdown",
   "metadata": {},
   "source": [
    "For example, we could save the `.data` and `.mask` for the `temperatures` array in the same file:"
   ]
  },
  {
   "cell_type": "code",
   "execution_count": null,
   "metadata": {},
   "outputs": [],
   "source": [
    "np.savez(\"tempdata.npz\", data=temperatures.data, mask=temperatures.mask)"
   ]
  },
  {
   "cell_type": "markdown",
   "metadata": {},
   "source": [
    "Note that `numpy.savez` takes keyword arguments that are used to save labels to each array saved in the file. In our case, we are saving arrays which will be referred to in the file as `data` and `mask`. \n",
    "\n",
    "Later, we can recover the arrays with `np.load`:"
   ]
  },
  {
   "cell_type": "code",
   "execution_count": null,
   "metadata": {},
   "outputs": [],
   "source": [
    "stored = np.load(\"tempdata.npz\")"
   ]
  },
  {
   "cell_type": "markdown",
   "metadata": {},
   "source": [
    "While `np.load` will directly return an array for `.npy` files, it will return a `NpzFile` object with a `.file` attribute for `.npz` files:"
   ]
  },
  {
   "cell_type": "code",
   "execution_count": null,
   "metadata": {},
   "outputs": [],
   "source": [
    "stored.files"
   ]
  },
  {
   "cell_type": "markdown",
   "metadata": {},
   "source": [
    "The original data for `temperatures` can be recovered by"
   ]
  },
  {
   "cell_type": "code",
   "execution_count": null,
   "metadata": {},
   "outputs": [],
   "source": [
    "stored['data']"
   ]
  },
  {
   "cell_type": "markdown",
   "metadata": {},
   "source": [
    "You can also save several arrays into a single file in compressed `npz` format with `savez_compressed`:"
   ]
  },
  {
   "cell_type": "code",
   "execution_count": null,
   "metadata": {},
   "outputs": [],
   "source": [
    "np.savez_compressed(\"tempdata_compressed.npz\", data=temperatures.data, mask=temperatures.mask)"
   ]
  },
  {
   "cell_type": "markdown",
   "metadata": {},
   "source": [
    "While `savez_compressed` can take longer than `savez`, the resulting file sizes can be much smaller. In our example, the file sizes show a big difference:"
   ]
  },
  {
   "cell_type": "markdown",
   "metadata": {},
   "source": [
    "| File name               | Size |\n",
    "| -----------             | -----|\n",
    "| tempdata.npz            | 216Mb|\n",
    "| tempdata_compressed.npz |  21Mb|"
   ]
  },
  {
   "cell_type": "markdown",
   "metadata": {},
   "source": [
    "**Note:** Using the `.npy` and `.npz` file extensions is a convention, not a requirement. Applications may wish to use these file formats but use an extension specific to the application. "
   ]
  },
  {
   "cell_type": "markdown",
   "metadata": {},
   "source": [
    "<a id=\"text\"></a>\n",
    "### Plain text data: `np.savetxt`, `np.loadtxt` and `np.genfromtxt`\n",
    "\n",
    "If you are looking to load data from a `.csv` or `.txt` file, the best options might be `np.loadtxt` (if your dataset has no missing values) or `np.genfromtxt` (if your dataset has missing values or you need more flexibility when reading them)."
   ]
  },
  {
   "cell_type": "markdown",
   "metadata": {},
   "source": [
    "In our case, we are looking to save data to a file, so we'll consider the `np.savetxt` function. However, we have a three-dimensional array, which is not supported by `np.savetxt` directly: it only accepts 1D and 2D arrays. One option would be to slice the data and save it separately. Another option would be to reshape the array so that the data from each day is presented as a (585, 1386) block, as demonstrated below:\n"
   ]
  },
  {
   "cell_type": "code",
   "execution_count": null,
   "metadata": {},
   "outputs": [],
   "source": [
    "temperatures.shape"
   ]
  },
  {
   "cell_type": "markdown",
   "metadata": {},
   "source": [
    "We could do something like\n",
    "```python\n",
    "np.savetxt(\"temperature_data.csv\", temperatures.reshape(31*585, 1386))\n",
    "```\n",
    "but be aware that this would take a long time. So to simplify, we demonstrate saving only a slice of the data. Let's say we wish to save the temperature data for July 8th, 2019 (day 7 of the month, starting from 0). We can save this data by doing"
   ]
  },
  {
   "cell_type": "code",
   "execution_count": null,
   "metadata": {},
   "outputs": [],
   "source": [
    "np.savetxt(\"temperature_data.csv\", temperatures[7, ...])"
   ]
  },
  {
   "cell_type": "markdown",
   "metadata": {},
   "source": [
    "This approach has the advantage of being human-readable, but has the disadvantage of being slow, creating large files and potentially causing loss of precision and information on the data. Use it with caution!"
   ]
  },
  {
   "cell_type": "code",
   "execution_count": null,
   "metadata": {},
   "outputs": [],
   "source": [
    "data = np.loadtxt(\"temperature_data.csv\")"
   ]
  },
  {
   "cell_type": "markdown",
   "metadata": {},
   "source": [
    "The `numpy.savetxt` and `numpy.loadtxt` functions accept additional optional parameters such as header, footer, and delimiter, which may be useful if your original data comes from a pandas dataframe or a plain `.csv` file.\n",
    "\n",
    "While text files can be easier for sharing, `.npy` and `.npz` files (which we'll se below) are smaller and faster to read. If you need more sophisticated handling of your text file (for example, if you need to work with lines that contain missing values), you should use the [genfromtxt](https://numpy.org/doc/stable/reference/generated/numpy.genfromtxt.html) function."
   ]
  },
  {
   "cell_type": "markdown",
   "metadata": {},
   "source": [
    "<a id=\"structured\"></a>\n",
    "## Structured arrays"
   ]
  },
  {
   "cell_type": "markdown",
   "metadata": {},
   "source": [
    "So far, we've only dealt with an array of [float64](link) values, as can be seen from the `dtype` attribute of the `temperatures.data` array:"
   ]
  },
  {
   "cell_type": "code",
   "execution_count": null,
   "metadata": {},
   "outputs": [],
   "source": [
    "temperatures.data.dtype"
   ]
  },
  {
   "cell_type": "markdown",
   "metadata": {},
   "source": [
    "Suppose we wished to store data with different `dtypes` in the same array, like we would for a table or [pandas dataframe](https://pandas.pydata.org/pandas-docs/stable/reference/api/pandas.DataFrame.html). NumPy's [structured arrays](https://numpy.org/devdocs/user/basics.rec.html) are `ndarrays` whose datatype is a composition of simpler datatypes organized as a sequence of named fields. "
   ]
  },
  {
   "cell_type": "markdown",
   "metadata": {},
   "source": [
    "In our example, we can store the temperature information in a more human-readable way. Since we want measures of temperature for each day of 2019, we define the two types of data we wish to represent: a `date` and `temperatures` measured in each of the coordinates previously defined on the map."
   ]
  },
  {
   "cell_type": "code",
   "execution_count": null,
   "metadata": {},
   "outputs": [],
   "source": [
    "dtypes = [('date', np.dtype('datetime64[D]')), ('temperatures', np.float64, (585, 1386))]"
   ]
  },
  {
   "cell_type": "markdown",
   "metadata": {},
   "source": [
    "For more information on creating and manipulating dtypes, see the [dtypes documentation](https://numpy.org/doc/stable/reference/arrays.dtypes.html)."
   ]
  },
  {
   "cell_type": "markdown",
   "metadata": {},
   "source": [
    "Now, we'll create a structured array with information organized with the `dtypes` we just defined:"
   ]
  },
  {
   "cell_type": "code",
   "execution_count": null,
   "metadata": {},
   "outputs": [],
   "source": [
    "temp_table = np.zeros(31, dtype=dtypes)\n",
    "for i in range(31):\n",
    "    temp_table[i] = (np.datetime64('2019-07-01') + np.timedelta64(i, 'D'), temperatures.data[i])"
   ]
  },
  {
   "cell_type": "code",
   "execution_count": null,
   "metadata": {},
   "outputs": [],
   "source": [
    "temp_table.dtype"
   ]
  },
  {
   "cell_type": "markdown",
   "metadata": {},
   "source": [
    "All we have to do is save `temp_table` to a file with `np.save` and the dtypes information is preserved for later reading."
   ]
  },
  {
   "cell_type": "code",
   "execution_count": null,
   "metadata": {},
   "outputs": [],
   "source": [
    "np.save(\"temp_table.npy\", temp_table)"
   ]
  },
  {
   "cell_type": "markdown",
   "metadata": {},
   "source": [
    "Reading back:"
   ]
  },
  {
   "cell_type": "code",
   "execution_count": null,
   "metadata": {},
   "outputs": [],
   "source": [
    "temp_table_read = np.load(\"temp_table.npy\")"
   ]
  },
  {
   "cell_type": "markdown",
   "metadata": {},
   "source": [
    "we can check that"
   ]
  },
  {
   "cell_type": "code",
   "execution_count": null,
   "metadata": {},
   "outputs": [],
   "source": [
    "temp_table_read.dtype"
   ]
  },
  {
   "cell_type": "markdown",
   "metadata": {},
   "source": [
    "which is the same dtype we had for `temp_table`."
   ]
  },
  {
   "cell_type": "markdown",
   "metadata": {},
   "source": [
    "<a id=\"zarr\"></a>\n",
    "## Zarr: an option for large arrays"
   ]
  },
  {
   "cell_type": "markdown",
   "metadata": {},
   "source": [
    "[Zarr](https://zarr.readthedocs.io/en/stable/) is a Python package providing an implementation of chunked, compressed, N-dimensional arrays. If you are already familiar with HDF5 then Zarr arrays provide similar functionality, but with some additional flexibility. It is not a part of NumPy, but can be used to store very large arrays with fast data access and modest file sizes. Zarr also lets you read and write files to cloud storage systems."
   ]
  },
  {
   "cell_type": "code",
   "execution_count": null,
   "metadata": {},
   "outputs": [],
   "source": [
    "import zarr"
   ]
  },
  {
   "cell_type": "markdown",
   "metadata": {},
   "source": [
    "Zarr offers a number of options for persistent array storage. However, it has a different model of persistent storage than what we usually see. For example, the `zarr.convenience.save()` - or simply `zarr.save()` - function can be used to save an array to disk as a `DirectoryStore` object from Zarr. This means that if we do "
   ]
  },
  {
   "cell_type": "code",
   "execution_count": null,
   "metadata": {},
   "outputs": [],
   "source": [
    "zarr.save('data/temperatures.zarr', temperatures)"
   ]
  },
  {
   "cell_type": "markdown",
   "metadata": {},
   "source": [
    "our data has been stored in a file called `example.zarr` in a subdirectory `data` of the local path (if this path does not exist, it is created at the time of writing)."
   ]
  },
  {
   "cell_type": "markdown",
   "metadata": {},
   "source": [
    "Now, we can recover the data using"
   ]
  },
  {
   "cell_type": "code",
   "execution_count": null,
   "metadata": {},
   "outputs": [],
   "source": [
    "temperatures_zarr = zarr.load('data/temperatures.zarr')"
   ]
  },
  {
   "cell_type": "markdown",
   "metadata": {},
   "source": [
    "Note that"
   ]
  },
  {
   "cell_type": "code",
   "execution_count": null,
   "metadata": {},
   "outputs": [],
   "source": [
    "temperatures_zarr.dtype"
   ]
  },
  {
   "cell_type": "markdown",
   "metadata": {},
   "source": [
    "as expected. "
   ]
  },
  {
   "cell_type": "markdown",
   "metadata": {},
   "source": [
    "As an alternative, if we wish to have a `.zip` file containing our array data, we can use"
   ]
  },
  {
   "cell_type": "code",
   "execution_count": null,
   "metadata": {},
   "outputs": [],
   "source": [
    "zarr.save('temperatures.zip', temperatures)"
   ]
  },
  {
   "cell_type": "markdown",
   "metadata": {},
   "source": [
    "To read the data back, we can once again use `zarr.load()`:"
   ]
  },
  {
   "cell_type": "code",
   "execution_count": null,
   "metadata": {},
   "outputs": [],
   "source": [
    "temp_zarr = zarr.load('temperatures.zip')"
   ]
  },
  {
   "cell_type": "markdown",
   "metadata": {},
   "source": [
    "<a id=\"final\"></a>\n",
    "## Final thoughts"
   ]
  },
  {
   "cell_type": "markdown",
   "metadata": {},
   "source": [
    "Some things to be aware of when choosing a file format or storage strategy:"
   ]
  },
  {
   "cell_type": "markdown",
   "metadata": {},
   "source": [
    "- Depending on the format chosen for the output file, you may experience loss of precision for the saved data.\n",
    "- Choose a format that will be portable for your needs. If you wish to share your data with people using other tools or programming languages, make sure to choose an appropriate file format.\n",
    "- Like in the masked array example, there are workarounds that can be used when NumPy functionality is not complete. \n",
    "- If you are looking to process a `.csv` file with headers and column labels, you might want to look at [Pandas](https://pandas.pydata.org/) instead of NumPy."
   ]
  },
  {
   "cell_type": "markdown",
   "metadata": {},
   "source": [
    "### Pickle and JSON"
   ]
  },
  {
   "cell_type": "markdown",
   "metadata": {},
   "source": [
    "If you are familiar with Python, you may have heard of the [pickle](https://docs.python.org/3/library/pickle.html) module. This allows a user to *serialize* a Python object, converting it to a byte stream (in our case, a binary file). This is, in general, not recommended, because pickled data can include malicious code which will be executed during unpickling. Furthermore, there may be portability issues: pickled objects may not be loadable on different Python installations. \n",
    "\n",
    "Some of the problems in the pickle module can be solved with a better serialization format, JSON. Unfortunately, [NumPy arrays are not JSON serializable](https://github.com/numpy/numpy/issues/12481) at this point."
   ]
  },
  {
   "cell_type": "markdown",
   "metadata": {},
   "source": [
    "### A warning: `np.tofile` and `np.fromfile`\n",
    "\n",
    "These are convenience functions for quick storage of array data as text or binary format (default), but should not be used except in very specific cases. Information on endianness and precision is lost, so this method is **not** a good choice for files intended to archive data or transport data between machines with different endianness. Some of these problems can be overcome by outputting the data as text files, at the expense of speed and file size.\n",
    "\n",
    "Use `np.save` and `np.load` instead.\n",
    "\n",
    "**Links to Reference Documentation**:\n",
    "- [`ndarray.tofile`](https://numpy.org/devdocs/reference/generated/numpy.ndarray.tofile.html)\n",
    "- [`numpy.fromfile`](https://numpy.org/devdocs/reference/generated/numpy.fromfile.html)"
   ]
  },
  {
   "cell_type": "markdown",
   "metadata": {},
   "source": [
    "### Other formats"
   ]
  },
  {
   "cell_type": "markdown",
   "metadata": {},
   "source": [
    "There are a number of well-known and popular formats for storing large arrays that can also be used together with NumPy, including\n",
    "\n",
    "- [HDF5](https://www.hdfgroup.org/) (using [h5py](https://www.h5py.org/))\n",
    "- [netCDF](https://www.unidata.ucar.edu/software/netcdf/)\n",
    "- [bloscpack](https://github.com/Blosc/bloscpack)\n",
    "\n",
    "As a general rule, you should try NumPy's built-in functionality first, and use other formats only when that does not satisfy your requirements. "
   ]
  },
  {
   "cell_type": "markdown",
   "metadata": {},
   "source": [
    "<a id=\"further_reading\"></a>\n",
    "## Further Reading"
   ]
  },
  {
   "cell_type": "markdown",
   "metadata": {},
   "source": [
    "- [\"How to save and load NumPy objects\"](https://numpy.org/devdocs/user/absolute_beginners.html#how-to-save-and-load-numpy-objects) section from the *NumPy: the absolute basics for beginners* tutorial.\n",
    "- [I/O with NumPy (User Documentation)](https://numpy.org/devdocs/user/basics.io.html): a tutorial focused on the `np.genfromtxt` function\n",
    "- [Input and output (Reference Documentation)](https://numpy.org/devdocs/reference/routines.io.html): a comprehensive list of I/O routines from NumPy\n",
    "- [NPY Binary format (Reference Documentation)](https://numpy.org/devdocs/reference/generated/numpy.lib.format.html)\n",
    "- [Zarr Tutorial](https://zarr.readthedocs.io/en/stable/tutorial.html)"
   ]
  },
  {
   "cell_type": "code",
   "execution_count": null,
   "metadata": {},
   "outputs": [],
   "source": []
  }
 ],
 "metadata": {
  "kernelspec": {
   "display_name": "Python 3",
   "language": "python",
   "name": "python3"
  },
  "language_info": {
   "codemirror_mode": {
    "name": "ipython",
    "version": 3
   },
   "file_extension": ".py",
   "mimetype": "text/x-python",
   "name": "python",
   "nbconvert_exporter": "python",
   "pygments_lexer": "ipython3",
   "version": "3.8.3"
  }
 },
 "nbformat": 4,
 "nbformat_minor": 4
}
